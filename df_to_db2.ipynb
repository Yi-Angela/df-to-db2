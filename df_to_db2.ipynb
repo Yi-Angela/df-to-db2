{
 "cells": [
  {
   "cell_type": "code",
   "execution_count": 1,
   "metadata": {},
   "outputs": [],
   "source": [
    "import pandas as pd\n",
    "import ibm_db"
   ]
  },
  {
   "cell_type": "code",
   "execution_count": 2,
   "metadata": {},
   "outputs": [
    {
     "data": {
      "text/html": [
       "<div>\n",
       "<style scoped>\n",
       "    .dataframe tbody tr th:only-of-type {\n",
       "        vertical-align: middle;\n",
       "    }\n",
       "\n",
       "    .dataframe tbody tr th {\n",
       "        vertical-align: top;\n",
       "    }\n",
       "\n",
       "    .dataframe thead th {\n",
       "        text-align: right;\n",
       "    }\n",
       "</style>\n",
       "<table border=\"1\" class=\"dataframe\">\n",
       "  <thead>\n",
       "    <tr style=\"text-align: right;\">\n",
       "      <th></th>\n",
       "      <th>Name</th>\n",
       "      <th>Age</th>\n",
       "      <th>Weight</th>\n",
       "    </tr>\n",
       "  </thead>\n",
       "  <tbody>\n",
       "    <tr>\n",
       "      <th>0</th>\n",
       "      <td>Mike</td>\n",
       "      <td>56</td>\n",
       "      <td>100.8</td>\n",
       "    </tr>\n",
       "    <tr>\n",
       "      <th>1</th>\n",
       "      <td>Robert</td>\n",
       "      <td>34</td>\n",
       "      <td>210.9</td>\n",
       "    </tr>\n",
       "    <tr>\n",
       "      <th>2</th>\n",
       "      <td>Amber</td>\n",
       "      <td>45</td>\n",
       "      <td>105.6</td>\n",
       "    </tr>\n",
       "    <tr>\n",
       "      <th>3</th>\n",
       "      <td>Anna</td>\n",
       "      <td>23</td>\n",
       "      <td>204.8</td>\n",
       "    </tr>\n",
       "  </tbody>\n",
       "</table>\n",
       "</div>"
      ],
      "text/plain": [
       "     Name  Age  Weight\n",
       "0    Mike   56   100.8\n",
       "1  Robert   34   210.9\n",
       "2   Amber   45   105.6\n",
       "3    Anna   23   204.8"
      ]
     },
     "execution_count": 2,
     "metadata": {},
     "output_type": "execute_result"
    }
   ],
   "source": [
    "import os, types\n",
    "from botocore.client import Config\n",
    "import ibm_boto3\n",
    "\n",
    "def __iter__(self): return 0\n",
    "\n",
    "# @hidden_cell\n",
    "# The following code accesses a file in your IBM Cloud Object Storage. It includes your credentials.\n",
    "# You might want to remove those credentials before you share the notebook.\n",
    "client_be27c39a06954f219332d6d4c9ebfebb = ibm_boto3.client(service_name='s3',\n",
    "    ibm_api_key_id='odBnNMkPuimz6CZzOOda9OQwb_dhnAzB30CDSvzoHxOD',\n",
    "    ibm_auth_endpoint=\"https://iam.cloud.ibm.com/oidc/token\",\n",
    "    config=Config(signature_version='oauth'),\n",
    "    endpoint_url='https://s3.private.us.cloud-object-storage.appdomain.cloud')\n",
    "\n",
    "body = client_be27c39a06954f219332d6d4c9ebfebb.get_object(Bucket='db2testproject-donotdelete-pr-n2jaljjbpb4fa7',Key='name_age_weight.csv')['Body']\n",
    "# add missing __iter__ method, so pandas accepts body as file-like object\n",
    "if not hasattr(body, \"__iter__\"): body.__iter__ = types.MethodType( __iter__, body )\n",
    "\n",
    "people_df = pd.read_csv(body)\n",
    "people_df.head()\n"
   ]
  },
  {
   "cell_type": "code",
   "execution_count": 7,
   "metadata": {},
   "outputs": [],
   "source": [
    "# Enter the values for you database connection. \n",
    "dsn_database = \"\"            # e.g. \"MORTGAGE\"\n",
    "dsn_uid      = \"\"            # e.g. \"dash104434\"\n",
    "dsn_pwd      = \"\"            # e.g. \"7dBZ3jWt9xN6$o0JiX!m\"\n",
    "dsn_hostname = \"\"            # e.g. \"Use the same IP as Web Console\"\n",
    "dsn_port     = \"\"               # e.g. \"50000\" \n",
    "dsn_protocol = \"TCPIP\"               # i.e. \"TCPIP\"\n",
    "dsn_driver   = \"IBM DB2 ODBC DRIVER\" # Don't change"
   ]
  },
  {
   "cell_type": "code",
   "execution_count": 8,
   "metadata": {},
   "outputs": [],
   "source": [
    "dsn = (\"DRIVER={{IBM DB2 ODBC DRIVER}};\" \"DATABASE={0};\" \"HOSTNAME={1};\" \"PORT={2};\" \"PROTOCOL=TCPIP;\" \"UID={3};\" \"PWD={4};SECURITY=SSL\").format(dsn_database, dsn_hostname, dsn_port, dsn_uid, dsn_pwd)\n",
    "options = { ibm_db.SQL_ATTR_AUTOCOMMIT:  ibm_db.SQL_AUTOCOMMIT_ON }\n",
    "conn = ibm_db.connect(dsn, \"\", \"\",options)"
   ]
  },
  {
   "cell_type": "code",
   "execution_count": 9,
   "metadata": {},
   "outputs": [
    {
     "data": {
      "text/plain": [
       "'Insert into NAME_AGE_WEIGHT(Person_Name,Person_Age,Person_Weight) values(?,?,?)'"
      ]
     },
     "execution_count": 9,
     "metadata": {},
     "output_type": "execute_result"
    }
   ],
   "source": [
    "columns = 'Person_Name,Person_Age,Person_Weight'\n",
    "insertSQL = 'Insert into NAME_AGE_WEIGHT(' + columns + ') values(?,?,?)'\n",
    "stmt = ibm_db.prepare(conn, insertSQL)\n",
    "insertSQL"
   ]
  },
  {
   "cell_type": "code",
   "execution_count": 12,
   "metadata": {},
   "outputs": [],
   "source": [
    "for n in range(len(people_df)) :\n",
    "    ibm_db.bind_param(stmt,1,str(people_df.at[n,'Name']), ibm_db.SQL_PARAM_INPUT,ibm_db.SQL_VARCHAR)\n",
    "    ibm_db.bind_param(stmt,2,str(people_df.at[n,'Age']), ibm_db.SQL_PARAM_INPUT,ibm_db.SQL_INTEGER)\n",
    "    ibm_db.bind_param(stmt,3,str(people_df.at[n,'Weight']), ibm_db.SQL_PARAM_INPUT,ibm_db.SQL_DECIMAL)\n",
    "    \n",
    "    ibm_db.execute(stmt)"
   ]
  },
  {
   "cell_type": "code",
   "execution_count": 6,
   "metadata": {},
   "outputs": [
    {
     "data": {
      "text/plain": [
       "True"
      ]
     },
     "execution_count": 6,
     "metadata": {},
     "output_type": "execute_result"
    }
   ],
   "source": [
    "ibm_db.close(conn)"
   ]
  }
 ],
 "metadata": {
  "kernelspec": {
   "display_name": "Python 3 (ipykernel)",
   "language": "python",
   "name": "python3"
  },
  "language_info": {
   "codemirror_mode": {
    "name": "ipython",
    "version": 3
   },
   "file_extension": ".py",
   "mimetype": "text/x-python",
   "name": "python",
   "nbconvert_exporter": "python",
   "pygments_lexer": "ipython3",
   "version": "3.7.11"
  }
 },
 "nbformat": 4,
 "nbformat_minor": 1
}
